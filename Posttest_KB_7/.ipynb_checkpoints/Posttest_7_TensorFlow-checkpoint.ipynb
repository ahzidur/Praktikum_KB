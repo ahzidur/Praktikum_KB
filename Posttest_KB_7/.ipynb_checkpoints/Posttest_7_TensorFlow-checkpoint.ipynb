{
 "cells": [
  {
   "cell_type": "markdown",
   "metadata": {},
   "source": [
    "# Posttest 7 Pengenalan Tensor Flow\n",
    "## Ahmad Zidan Maulidinnur\n",
    "## 2009106018\n",
    "## Kecerdasan Buatan A2 2020"
   ]
  },
  {
   "cell_type": "code",
   "execution_count": null,
   "metadata": {},
   "outputs": [],
   "source": [
    "import tensorflow as tf"
   ]
  },
  {
   "cell_type": "markdown",
   "metadata": {},
   "source": [
    "# Membuat Tensor Dengan Nilai Random"
   ]
  },
  {
   "cell_type": "code",
   "execution_count": null,
   "metadata": {},
   "outputs": [],
   "source": [
    "random_tensor = tf.random.uniform([5,5],maxval=5,dtype=tf.int64)\n",
    "random_tensor"
   ]
  },
  {
   "cell_type": "markdown",
   "metadata": {},
   "source": [
    "# Membuat Tensor Dari Sebuah List Dengan Nilai Bilangan Prima"
   ]
  },
  {
   "cell_type": "code",
   "execution_count": 3,
   "metadata": {},
   "outputs": [
    {
     "data": {
      "text/plain": [
       "<tf.Tensor: shape=(5, 5), dtype=int64, numpy=\n",
       "array([[ 2,  3,  5,  7, 11],\n",
       "       [13, 17, 19, 23, 29],\n",
       "       [31, 37, 41, 43, 47],\n",
       "       [53, 59, 61, 67, 71],\n",
       "       [73, 79, 83, 89, 97]], dtype=int64)>"
      ]
     },
     "execution_count": 3,
     "metadata": {},
     "output_type": "execute_result"
    }
   ],
   "source": [
    "prime_tensor = tf.constant([2,3,5,7,11,13,17,19,23,29,31,37,41,43,47,53,59,61,67,71,73,79,83,89,97], shape= (5,5), dtype=tf.int64 )\n",
    "prime_tensor"
   ]
  },
  {
   "cell_type": "markdown",
   "metadata": {},
   "source": [
    "# Dimensi Random Tensor"
   ]
  },
  {
   "cell_type": "code",
   "execution_count": 4,
   "metadata": {},
   "outputs": [
    {
     "data": {
      "text/plain": [
       "TensorShape([5, 5])"
      ]
     },
     "execution_count": 4,
     "metadata": {},
     "output_type": "execute_result"
    }
   ],
   "source": [
    "random_tensor.shape"
   ]
  },
  {
   "cell_type": "markdown",
   "metadata": {},
   "source": [
    "# Dimensi Prime Tensor"
   ]
  },
  {
   "cell_type": "code",
   "execution_count": 5,
   "metadata": {},
   "outputs": [
    {
     "data": {
      "text/plain": [
       "TensorShape([5, 5])"
      ]
     },
     "execution_count": 5,
     "metadata": {},
     "output_type": "execute_result"
    }
   ],
   "source": [
    "prime_tensor.shape"
   ]
  },
  {
   "cell_type": "markdown",
   "metadata": {},
   "source": [
    "# Aritmatika "
   ]
  },
  {
   "cell_type": "code",
   "execution_count": 7,
   "metadata": {},
   "outputs": [
    {
     "name": "stdout",
     "output_type": "stream",
     "text": [
      "Hasil Penjumlah Variable random_tensor dan prime_tensor adalah:\n",
      "tf.Tensor(\n",
      "[[ 5  3  7 11 14]\n",
      " [13 18 19 27 29]\n",
      " [35 38 45 47 51]\n",
      " [55 62 61 70 75]\n",
      " [77 80 86 93 97]], shape=(5, 5), dtype=int64)\n"
     ]
    }
   ],
   "source": [
    "#Penjumlahan\n",
    "print(\"Hasil Penjumlahan Variable random_tensor dan prime_tensor adalah:\")\n",
    "print(tf.add(random_tensor, prime_tensor))\n",
    "print(\"---------------------------------------------------------------\")\n",
    "\n",
    "#Pengurangan\n",
    "print(\"Hasil Pengurangan Variable random_tensor dan prime_tensor adalah:\")\n",
    "print(tf.substract(random_tensor, prime_tensor))\n",
    "print(\"---------------------------------------------------------------\")\n"
   ]
  },
  {
   "cell_type": "code",
   "execution_count": 8,
   "metadata": {},
   "outputs": [
    {
     "name": "stdout",
     "output_type": "stream",
     "text": [
      "Hasil Perkalian Variable random_tensor dan prime_tensor adalah:\n",
      "tf.Tensor(\n",
      "[[  6   0  10  28  33]\n",
      " [  0  17   0  92   0]\n",
      " [124  37 164 172 188]\n",
      " [106 177   0 201 284]\n",
      " [292  79 249 356   0]], shape=(5, 5), dtype=int64)\n",
      "---------------------------------------------------------------\n",
      "Hasil Pembagian Variable random_tensor dan prime_tensor adalah:\n",
      "tf.Tensor(\n",
      "[[1.5        0.         0.4        0.57142857 0.27272727]\n",
      " [0.         0.05882353 0.         0.17391304 0.        ]\n",
      " [0.12903226 0.02702703 0.09756098 0.09302326 0.08510638]\n",
      " [0.03773585 0.05084746 0.         0.04477612 0.05633803]\n",
      " [0.05479452 0.01265823 0.03614458 0.04494382 0.        ]], shape=(5, 5), dtype=float64)\n",
      "---------------------------------------------------------------\n"
     ]
    }
   ],
   "source": [
    "#Perkalian\n",
    "print(\"Hasil Perkalian Variable random_tensor dan prime_tensor adalah:\")\n",
    "print(tf.multiply(random_tensor, prime_tensor))\n",
    "print(\"---------------------------------------------------------------\")\n",
    "\n",
    "#Pembagian\n",
    "print(\"Hasil Pembagian Variable random_tensor dan prime_tensor adalah:\")\n",
    "print(tf.divide(random_tensor, prime_tensor))\n",
    "print(\"---------------------------------------------------------------\")\n"
   ]
  },
  {
   "cell_type": "code",
   "execution_count": 9,
   "metadata": {},
   "outputs": [
    {
     "name": "stdout",
     "output_type": "stream",
     "text": [
      "Hasil Perpangkatan Variable random_tensor dan prime_tensor adalah:\n",
      "tf.Tensor(\n",
      "[[                   9                    0                   32\n",
      "                 16384               177147]\n",
      " [                   0                    1                    0\n",
      "        70368744177664                    0]\n",
      " [ 4611686018427387904                    1                    0\n",
      "                     0                    0]\n",
      " [    9007199254740992 -1178661806862719173                    0\n",
      "  -4014347941998366949                    0]\n",
      " [                   0                    1  7833852915060663003\n",
      "                     0                    0]], shape=(5, 5), dtype=int64)\n",
      "---------------------------------------------------------------\n"
     ]
    }
   ],
   "source": [
    "#Perpangkatan\n",
    "print(\"Hasil Perpangkatan Variable random_tensor dan prime_tensor adalah:\")\n",
    "print(tf.pow(random_tensor, prime_tensor))\n",
    "print(\"---------------------------------------------------------------\")"
   ]
  },
  {
   "cell_type": "markdown",
   "metadata": {},
   "source": [
    "## Nilai Maksimal Dan Minimal Dari Variable Random Tensor"
   ]
  },
  {
   "cell_type": "markdown",
   "metadata": {},
   "source": [
    "### 1. Nilai Maksimum"
   ]
  },
  {
   "cell_type": "code",
   "execution_count": 12,
   "metadata": {},
   "outputs": [
    {
     "name": "stdout",
     "output_type": "stream",
     "text": [
      "Nilai Maksimum berdasarkan kolom:  tf.Tensor([2 3 2 0 2], shape=(5,), dtype=int64)\n",
      "Nilai Maksimum berdasarkan baris:  tf.Tensor([3 3 0 4 0], shape=(5,), dtype=int64)\n"
     ]
    }
   ],
   "source": [
    "nilai_max_1 = tf.argmax(random_tensor, axis=0)\n",
    "nilai_max_2 = tf.argmax(random_tensor, axis=1)\n",
    "print(\"Nilai Maksimum berdasarkan kolom: \", nilai_max_1)\n",
    "print(\"Nilai Maksimum berdasarkan baris: \", nilai_max_2)"
   ]
  },
  {
   "cell_type": "markdown",
   "metadata": {},
   "source": [
    "### 2. Nilai Minimum"
   ]
  },
  {
   "cell_type": "code",
   "execution_count": 11,
   "metadata": {},
   "outputs": [
    {
     "name": "stdout",
     "output_type": "stream",
     "text": [
      "Nilai Minimum berdasarkan kolom:  tf.Tensor([1 0 1 3 1], shape=(5,), dtype=int64)\n",
      "Nilai Minimum berdasarkan baris:  tf.Tensor([1 0 1 2 4], shape=(5,), dtype=int64)\n"
     ]
    }
   ],
   "source": [
    "nilai_min_1 = tf.argmin(random_tensor, axis=0)\n",
    "nilai_min_2 = tf.argmin(random_tensor, axis=1)\n",
    "print(\"Nilai Minimum berdasarkan kolom: \", nilai_min_1)\n",
    "print(\"Nilai Minimum berdasarkan baris: \", nilai_min_2)"
   ]
  },
  {
   "cell_type": "markdown",
   "metadata": {},
   "source": [
    "# Concatenation"
   ]
  },
  {
   "cell_type": "code",
   "execution_count": 13,
   "metadata": {},
   "outputs": [
    {
     "name": "stdout",
     "output_type": "stream",
     "text": [
      "Size data yang sudah di-concat (10, 5)\n",
      "tf.Tensor(\n",
      "[[ 3  0  2  4  3]\n",
      " [ 0  1  0  4  0]\n",
      " [ 4  1  4  4  4]\n",
      " [ 2  3  0  3  4]\n",
      " [ 4  1  3  4  0]\n",
      " [ 2  3  5  7 11]\n",
      " [13 17 19 23 29]\n",
      " [31 37 41 43 47]\n",
      " [53 59 61 67 71]\n",
      " [73 79 83 89 97]], shape=(10, 5), dtype=int64)\n"
     ]
    }
   ],
   "source": [
    "#Menggunakan metode tf.concat()\n",
    "concat_variable = tf.concat([random_tensor,prime_tensor], axis = 0)\n",
    "print(f\"Size data yang sudah di-concat {concat_variable.shape}\")\n",
    "print(concat_variable)"
   ]
  },
  {
   "cell_type": "markdown",
   "metadata": {},
   "source": [
    "# Sorting Variable Secara Descending"
   ]
  },
  {
   "cell_type": "markdown",
   "metadata": {},
   "source": [
    "### Random Tensor"
   ]
  },
  {
   "cell_type": "code",
   "execution_count": 14,
   "metadata": {},
   "outputs": [
    {
     "name": "stdout",
     "output_type": "stream",
     "text": [
      "Nilai Variable Setelah di sorting secara Descending:\n"
     ]
    },
    {
     "data": {
      "text/plain": [
       "<tf.Tensor: shape=(5, 5), dtype=int64, numpy=\n",
       "array([[4, 3, 3, 2, 0],\n",
       "       [4, 1, 0, 0, 0],\n",
       "       [4, 4, 4, 4, 1],\n",
       "       [4, 3, 3, 2, 0],\n",
       "       [4, 4, 3, 1, 0]], dtype=int64)>"
      ]
     },
     "execution_count": 14,
     "metadata": {},
     "output_type": "execute_result"
    }
   ],
   "source": [
    "print(\"Nilai Variable Setelah di sorting secara Descending:\")\n",
    "tf.sort(random_tensor, direction=\"DESCENDING\")"
   ]
  },
  {
   "cell_type": "markdown",
   "metadata": {},
   "source": [
    "### Prime Tensor"
   ]
  },
  {
   "cell_type": "code",
   "execution_count": 15,
   "metadata": {},
   "outputs": [
    {
     "name": "stdout",
     "output_type": "stream",
     "text": [
      "Nilai Variable Setelah di sorting secara Descending:\n"
     ]
    },
    {
     "data": {
      "text/plain": [
       "<tf.Tensor: shape=(5, 5), dtype=int64, numpy=\n",
       "array([[11,  7,  5,  3,  2],\n",
       "       [29, 23, 19, 17, 13],\n",
       "       [47, 43, 41, 37, 31],\n",
       "       [71, 67, 61, 59, 53],\n",
       "       [97, 89, 83, 79, 73]], dtype=int64)>"
      ]
     },
     "execution_count": 15,
     "metadata": {},
     "output_type": "execute_result"
    }
   ],
   "source": [
    "print(\"Nilai Variable Setelah di sorting secara Descending:\")\n",
    "tf.sort(prime_tensor, direction=\"DESCENDING\")"
   ]
  }
 ],
 "metadata": {
  "kernelspec": {
   "display_name": "Python 3 (ipykernel)",
   "language": "python",
   "name": "python3"
  },
  "language_info": {
   "codemirror_mode": {
    "name": "ipython",
    "version": 3
   },
   "file_extension": ".py",
   "mimetype": "text/x-python",
   "name": "python",
   "nbconvert_exporter": "python",
   "pygments_lexer": "ipython3",
   "version": "3.10.7"
  }
 },
 "nbformat": 4,
 "nbformat_minor": 4
}
